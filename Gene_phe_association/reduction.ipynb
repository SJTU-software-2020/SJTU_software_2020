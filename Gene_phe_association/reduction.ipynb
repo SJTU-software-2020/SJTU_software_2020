{
 "cells": [
  {
   "cell_type": "markdown",
   "metadata": {},
   "source": [
    "# (1) Read the modified data"
   ]
  },
  {
   "cell_type": "markdown",
   "metadata": {},
   "source": [
    "#### 1. Setting the working directory"
   ]
  },
  {
   "cell_type": "code",
   "execution_count": 1,
   "metadata": {},
   "outputs": [],
   "source": [
    "import os\n",
    "os.chdir(\"D:\\\\SJTU\\\\igem\\\\3Krice-pav\\\\\")"
   ]
  },
  {
   "cell_type": "markdown",
   "metadata": {},
   "source": [
    "#### 2. Reading the genePAV and pheno data"
   ]
  },
  {
   "cell_type": "code",
   "execution_count": 2,
   "metadata": {},
   "outputs": [],
   "source": [
    "import pandas as pd\n",
    "gene = pd.read_table(\"geneTable_flag_leaf_angle.txt\",sep=' ')\n",
    "label = pd.read_table(\"label_flag_leaf_angle.txt\", header=None)"
   ]
  },
  {
   "cell_type": "code",
   "execution_count": null,
   "metadata": {},
   "outputs": [],
   "source": [
    "import pandas as pd\n",
    "gene = pd.read_table(\"geneTable_grain_length.txt\",sep=' ')\n",
    "label = pd.read_table(\"label_grain_length.txt\", header=None)"
   ]
  },
  {
   "cell_type": "code",
   "execution_count": null,
   "metadata": {},
   "outputs": [],
   "source": [
    "import pandas as pd\n",
    "gene = pd.read_table(\"geneTable_grain_weight.txt\",sep=' ')\n",
    "label = pd.read_table(\"label_grain_weight.txt\", header=None)"
   ]
  },
  {
   "cell_type": "code",
   "execution_count": null,
   "metadata": {},
   "outputs": [],
   "source": [
    "import pandas as pd\n",
    "gene = pd.read_table(\"geneTable_grain_width.txt\",sep=' ')\n",
    "label = pd.read_table(\"label_grain_width.txt\", header=None)"
   ]
  },
  {
   "cell_type": "code",
   "execution_count": null,
   "metadata": {},
   "outputs": [],
   "source": [
    "import pandas as pd\n",
    "gene = pd.read_table(\"geneTable_height.txt\",sep=' ')\n",
    "label = pd.read_table(\"label_height.txt\", header=None)"
   ]
  },
  {
   "cell_type": "code",
   "execution_count": null,
   "metadata": {},
   "outputs": [],
   "source": [
    "import pandas as pd\n",
    "gene = pd.read_table(\"geneTable_leaf_angle.txt\",sep=' ')\n",
    "label = pd.read_table(\"label_leaf_angle.txt\", header=None)"
   ]
  },
  {
   "cell_type": "code",
   "execution_count": null,
   "metadata": {},
   "outputs": [],
   "source": [
    "import pandas as pd\n",
    "gene = pd.read_table(\"geneTable_leaf_length.txt\",sep=' ')\n",
    "label = pd.read_table(\"label_leaf_length.txt\", header=None)"
   ]
  },
  {
   "cell_type": "code",
   "execution_count": null,
   "metadata": {},
   "outputs": [],
   "source": [
    "import pandas as pd\n",
    "gene = pd.read_table(\"geneTable_leaf_width.txt\",sep=' ')\n",
    "label = pd.read_table(\"label_leaf_width.txt\", header=None)"
   ]
  },
  {
   "cell_type": "code",
   "execution_count": 3,
   "metadata": {},
   "outputs": [],
   "source": [
    "label = (label.iloc[:,0]).map(lambda x:round(x))"
   ]
  },
  {
   "cell_type": "code",
   "execution_count": 4,
   "metadata": {},
   "outputs": [
    {
     "name": "stdout",
     "output_type": "stream",
     "text": [
      "(322, 48098)\n"
     ]
    }
   ],
   "source": [
    "print(gene.shape)"
   ]
  },
  {
   "cell_type": "markdown",
   "metadata": {},
   "source": [
    "#### 3. Data preview"
   ]
  },
  {
   "cell_type": "code",
   "execution_count": 5,
   "metadata": {},
   "outputs": [
    {
     "data": {
      "text/html": [
       "<div>\n",
       "<style scoped>\n",
       "    .dataframe tbody tr th:only-of-type {\n",
       "        vertical-align: middle;\n",
       "    }\n",
       "\n",
       "    .dataframe tbody tr th {\n",
       "        vertical-align: top;\n",
       "    }\n",
       "\n",
       "    .dataframe thead th {\n",
       "        text-align: right;\n",
       "    }\n",
       "</style>\n",
       "<table border=\"1\" class=\"dataframe\">\n",
       "  <thead>\n",
       "    <tr style=\"text-align: right;\">\n",
       "      <th></th>\n",
       "      <th>Os01g0100100</th>\n",
       "      <th>Os01g0100200</th>\n",
       "      <th>Os01g0100300</th>\n",
       "      <th>Os01g0100400</th>\n",
       "      <th>Os01g0100466</th>\n",
       "      <th>Os01g0100500</th>\n",
       "      <th>Os01g0100600</th>\n",
       "      <th>Os01g0100650</th>\n",
       "      <th>Os01g0100700</th>\n",
       "      <th>Os01g0100800</th>\n",
       "      <th>...</th>\n",
       "      <th>Un_maker_361835</th>\n",
       "      <th>Un_maker_361847</th>\n",
       "      <th>Un_maker_361857</th>\n",
       "      <th>Un_maker_361889</th>\n",
       "      <th>Un_maker_361969</th>\n",
       "      <th>Un_maker_362008</th>\n",
       "      <th>Un_maker_362040</th>\n",
       "      <th>Un_maker_362070</th>\n",
       "      <th>Un_maker_362084</th>\n",
       "      <th>Un_maker_362095</th>\n",
       "    </tr>\n",
       "  </thead>\n",
       "  <tbody>\n",
       "    <tr>\n",
       "      <th>0</th>\n",
       "      <td>1</td>\n",
       "      <td>1</td>\n",
       "      <td>1</td>\n",
       "      <td>1</td>\n",
       "      <td>1</td>\n",
       "      <td>1</td>\n",
       "      <td>1</td>\n",
       "      <td>1</td>\n",
       "      <td>1</td>\n",
       "      <td>1</td>\n",
       "      <td>...</td>\n",
       "      <td>0</td>\n",
       "      <td>0</td>\n",
       "      <td>0</td>\n",
       "      <td>1</td>\n",
       "      <td>0</td>\n",
       "      <td>1</td>\n",
       "      <td>0</td>\n",
       "      <td>0</td>\n",
       "      <td>1</td>\n",
       "      <td>0</td>\n",
       "    </tr>\n",
       "    <tr>\n",
       "      <th>1</th>\n",
       "      <td>1</td>\n",
       "      <td>0</td>\n",
       "      <td>0</td>\n",
       "      <td>1</td>\n",
       "      <td>1</td>\n",
       "      <td>1</td>\n",
       "      <td>1</td>\n",
       "      <td>1</td>\n",
       "      <td>1</td>\n",
       "      <td>1</td>\n",
       "      <td>...</td>\n",
       "      <td>0</td>\n",
       "      <td>0</td>\n",
       "      <td>1</td>\n",
       "      <td>0</td>\n",
       "      <td>0</td>\n",
       "      <td>1</td>\n",
       "      <td>0</td>\n",
       "      <td>1</td>\n",
       "      <td>0</td>\n",
       "      <td>1</td>\n",
       "    </tr>\n",
       "    <tr>\n",
       "      <th>2</th>\n",
       "      <td>1</td>\n",
       "      <td>1</td>\n",
       "      <td>1</td>\n",
       "      <td>1</td>\n",
       "      <td>1</td>\n",
       "      <td>1</td>\n",
       "      <td>1</td>\n",
       "      <td>1</td>\n",
       "      <td>1</td>\n",
       "      <td>1</td>\n",
       "      <td>...</td>\n",
       "      <td>0</td>\n",
       "      <td>0</td>\n",
       "      <td>0</td>\n",
       "      <td>0</td>\n",
       "      <td>0</td>\n",
       "      <td>1</td>\n",
       "      <td>1</td>\n",
       "      <td>0</td>\n",
       "      <td>0</td>\n",
       "      <td>1</td>\n",
       "    </tr>\n",
       "    <tr>\n",
       "      <th>3</th>\n",
       "      <td>1</td>\n",
       "      <td>1</td>\n",
       "      <td>1</td>\n",
       "      <td>1</td>\n",
       "      <td>1</td>\n",
       "      <td>1</td>\n",
       "      <td>1</td>\n",
       "      <td>1</td>\n",
       "      <td>1</td>\n",
       "      <td>1</td>\n",
       "      <td>...</td>\n",
       "      <td>0</td>\n",
       "      <td>0</td>\n",
       "      <td>1</td>\n",
       "      <td>0</td>\n",
       "      <td>0</td>\n",
       "      <td>1</td>\n",
       "      <td>0</td>\n",
       "      <td>0</td>\n",
       "      <td>0</td>\n",
       "      <td>0</td>\n",
       "    </tr>\n",
       "    <tr>\n",
       "      <th>4</th>\n",
       "      <td>1</td>\n",
       "      <td>1</td>\n",
       "      <td>1</td>\n",
       "      <td>1</td>\n",
       "      <td>1</td>\n",
       "      <td>1</td>\n",
       "      <td>1</td>\n",
       "      <td>1</td>\n",
       "      <td>1</td>\n",
       "      <td>1</td>\n",
       "      <td>...</td>\n",
       "      <td>0</td>\n",
       "      <td>0</td>\n",
       "      <td>1</td>\n",
       "      <td>1</td>\n",
       "      <td>0</td>\n",
       "      <td>1</td>\n",
       "      <td>0</td>\n",
       "      <td>0</td>\n",
       "      <td>0</td>\n",
       "      <td>0</td>\n",
       "    </tr>\n",
       "  </tbody>\n",
       "</table>\n",
       "<p>5 rows × 48098 columns</p>\n",
       "</div>"
      ],
      "text/plain": [
       "   Os01g0100100  Os01g0100200  Os01g0100300  Os01g0100400  Os01g0100466  \\\n",
       "0             1             1             1             1             1   \n",
       "1             1             0             0             1             1   \n",
       "2             1             1             1             1             1   \n",
       "3             1             1             1             1             1   \n",
       "4             1             1             1             1             1   \n",
       "\n",
       "   Os01g0100500  Os01g0100600  Os01g0100650  Os01g0100700  Os01g0100800  ...  \\\n",
       "0             1             1             1             1             1  ...   \n",
       "1             1             1             1             1             1  ...   \n",
       "2             1             1             1             1             1  ...   \n",
       "3             1             1             1             1             1  ...   \n",
       "4             1             1             1             1             1  ...   \n",
       "\n",
       "   Un_maker_361835  Un_maker_361847  Un_maker_361857  Un_maker_361889  \\\n",
       "0                0                0                0                1   \n",
       "1                0                0                1                0   \n",
       "2                0                0                0                0   \n",
       "3                0                0                1                0   \n",
       "4                0                0                1                1   \n",
       "\n",
       "   Un_maker_361969  Un_maker_362008  Un_maker_362040  Un_maker_362070  \\\n",
       "0                0                1                0                0   \n",
       "1                0                1                0                1   \n",
       "2                0                1                1                0   \n",
       "3                0                1                0                0   \n",
       "4                0                1                0                0   \n",
       "\n",
       "   Un_maker_362084  Un_maker_362095  \n",
       "0                1                0  \n",
       "1                0                1  \n",
       "2                0                1  \n",
       "3                0                0  \n",
       "4                0                0  \n",
       "\n",
       "[5 rows x 48098 columns]"
      ]
     },
     "execution_count": 5,
     "metadata": {},
     "output_type": "execute_result"
    }
   ],
   "source": [
    "gene.head()"
   ]
  },
  {
   "cell_type": "code",
   "execution_count": 6,
   "metadata": {},
   "outputs": [
    {
     "data": {
      "text/plain": [
       "0    5\n",
       "1    3\n",
       "2    5\n",
       "3    3\n",
       "4    1\n",
       "Name: 0, dtype: int64"
      ]
     },
     "execution_count": 6,
     "metadata": {},
     "output_type": "execute_result"
    }
   ],
   "source": [
    "label.head()"
   ]
  },
  {
   "cell_type": "markdown",
   "metadata": {},
   "source": [
    "# (2) Association analysis"
   ]
  },
  {
   "cell_type": "markdown",
   "metadata": {},
   "source": [
    "### 1. decision tree"
   ]
  },
  {
   "cell_type": "code",
   "execution_count": 7,
   "metadata": {},
   "outputs": [],
   "source": [
    "from sklearn.ensemble import ExtraTreesClassifier\n",
    "import numpy as np\n",
    "\n",
    "f = ExtraTreesClassifier()\n",
    "f = f.fit(gene, np.ravel(label))\n",
    "importance = f.feature_importances_ # view the importance of each feature"
   ]
  },
  {
   "cell_type": "markdown",
   "metadata": {},
   "source": [
    "### 2. Ranking of importance"
   ]
  },
  {
   "cell_type": "code",
   "execution_count": 8,
   "metadata": {},
   "outputs": [],
   "source": [
    "data = pd.DataFrame(importance)\n",
    "data.columns = ['importance']"
   ]
  },
  {
   "cell_type": "code",
   "execution_count": 9,
   "metadata": {},
   "outputs": [],
   "source": [
    "new_data = data.sort_values('importance',ascending=False)"
   ]
  },
  {
   "cell_type": "code",
   "execution_count": 10,
   "metadata": {},
   "outputs": [],
   "source": [
    "top = list(new_data.index)[1:50]"
   ]
  },
  {
   "cell_type": "code",
   "execution_count": 11,
   "metadata": {},
   "outputs": [
    {
     "data": {
      "text/plain": [
       "Index(['Os01g0883850', 'Os01g0561500', 'Os01g0883800', 'Os12g0247700',\n",
       "       'Os08g0208300', 'Os07g0255200', 'Un_maker_5884', 'Os11g0604900',\n",
       "       'Un_maker_337482', 'Un_maker_161212', 'Os11g0540600', 'Un_maker_208430',\n",
       "       'Os09g0365900', 'Un_maker_1919', 'Os09g0495000', 'Un_maker_331428',\n",
       "       'Un_maker_303369', 'Un_maker_251972', 'Un_maker_43255', 'Os07g0124750',\n",
       "       'Os03g0756800', 'Un_maker_148100', 'Os07g0197400', 'Os06g0674400',\n",
       "       'Os12g0511600', 'Os02g0484200', 'Os09g0495100', 'Os01g0566200',\n",
       "       'Un_maker_257967', 'Un_maker_284999', 'Os03g0821550', 'Os07g0200900',\n",
       "       'Os10g0409566', 'Un_maker_301067', 'Un_maker_120744', 'Un_maker_257647',\n",
       "       'Os01g0564950', 'Un_maker_312254', 'Os12g0610250', 'Os03g0754200',\n",
       "       'Os06g0146600', 'Os10g0469000', 'Os07g0195350', 'Un_maker_50770',\n",
       "       'Os12g0247900', 'Un_maker_307704', 'Os11g0114300', 'Un_maker_273793',\n",
       "       'Os10g0469100'],\n",
       "      dtype='object')"
      ]
     },
     "execution_count": 11,
     "metadata": {},
     "output_type": "execute_result"
    }
   ],
   "source": [
    "col = gene.columns\n",
    "col[top]"
   ]
  },
  {
   "cell_type": "code",
   "execution_count": 12,
   "metadata": {},
   "outputs": [],
   "source": [
    "genemax = pd.DataFrame(col[top])"
   ]
  },
  {
   "cell_type": "markdown",
   "metadata": {},
   "source": [
    "# (3) Output"
   ]
  },
  {
   "cell_type": "code",
   "execution_count": 13,
   "metadata": {},
   "outputs": [],
   "source": [
    "genemax.to_csv('top_flag_leaf_angle.txt',sep='\\t',index=False,header=None)"
   ]
  },
  {
   "cell_type": "code",
   "execution_count": null,
   "metadata": {},
   "outputs": [],
   "source": [
    "genemax.to_csv('top_grain_length.txt',sep='\\t',index=False,header=None)"
   ]
  },
  {
   "cell_type": "code",
   "execution_count": null,
   "metadata": {},
   "outputs": [],
   "source": [
    "genemax.to_csv('top_grain_weight.txt',sep='\\t',index=False,header=None)"
   ]
  },
  {
   "cell_type": "code",
   "execution_count": null,
   "metadata": {},
   "outputs": [],
   "source": [
    "genemax.to_csv('top_grain_width.txt',sep='\\t',index=False,header=None)"
   ]
  },
  {
   "cell_type": "code",
   "execution_count": null,
   "metadata": {},
   "outputs": [],
   "source": [
    "genemax.to_csv('top_height.txt',sep='\\t',index=False,header=None)"
   ]
  },
  {
   "cell_type": "code",
   "execution_count": null,
   "metadata": {},
   "outputs": [],
   "source": [
    "genemax.to_csv('top_leaf_angle.txt',sep='\\t',index=False,header=None)"
   ]
  },
  {
   "cell_type": "code",
   "execution_count": null,
   "metadata": {},
   "outputs": [],
   "source": [
    "genemax.to_csv('top_leaf_length.txt',sep='\\t',index=False,header=None)"
   ]
  },
  {
   "cell_type": "code",
   "execution_count": null,
   "metadata": {},
   "outputs": [],
   "source": [
    "genemax.to_csv('top_leaf_width.txt',sep='\\t',index=False,header=None)"
   ]
  },
  {
   "cell_type": "code",
   "execution_count": null,
   "metadata": {},
   "outputs": [],
   "source": []
  }
 ],
 "metadata": {
  "kernelspec": {
   "display_name": "Python 3",
   "language": "python",
   "name": "python3"
  },
  "language_info": {
   "codemirror_mode": {
    "name": "ipython",
    "version": 3
   },
   "file_extension": ".py",
   "mimetype": "text/x-python",
   "name": "python",
   "nbconvert_exporter": "python",
   "pygments_lexer": "ipython3",
   "version": "3.8.1"
  }
 },
 "nbformat": 4,
 "nbformat_minor": 4
}
